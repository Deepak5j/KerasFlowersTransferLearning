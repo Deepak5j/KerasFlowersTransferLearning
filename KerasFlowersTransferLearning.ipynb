{
  "nbformat": 4,
  "nbformat_minor": 0,
  "metadata": {
    "colab": {
      "name": "KerasFlowersTransferLearning.ipynb",
      "provenance": [],
      "collapsed_sections": [],
      "include_colab_link": true
    },
    "kernelspec": {
      "name": "python3",
      "display_name": "Python 3"
    }
  },
  "cells": [
    {
      "cell_type": "markdown",
      "metadata": {
        "id": "view-in-github",
        "colab_type": "text"
      },
      "source": [
        "<a href=\"https://colab.research.google.com/github/Deepak5j/KerasFlowersTransferLearning/blob/master/KerasFlowersTransferLearning.ipynb\" target=\"_parent\"><img src=\"https://colab.research.google.com/assets/colab-badge.svg\" alt=\"Open In Colab\"/></a>"
      ]
    },
    {
      "cell_type": "code",
      "metadata": {
        "id": "00joctqxoiaq",
        "colab_type": "code",
        "colab": {}
      },
      "source": [
        "import os, math, json\n",
        "import numpy as np\n",
        "from matplotlib import pyplot as plt\n",
        "import tensorflow as tf\n",
        "tf.enable_eager_execution()\n",
        "AUTO = tf.data.experimental.AUTOTUNE"
      ],
      "execution_count": 0,
      "outputs": []
    },
    {
      "cell_type": "code",
      "metadata": {
        "id": "E-mRW3pOpLeu",
        "colab_type": "code",
        "colab": {}
      },
      "source": [
        "GCS_PATTER = 'gs://flowers-public/tfrecords-jpg-192x192-20/0*.tfrec'\n",
        "IMAGE_SIZE = [192, 192]\n",
        "BATCH_SIZE = 64\n",
        "EPOCHS = 10\n",
        "VALIDATION_SPLIT = 0.20\n",
        "CLASSES = ['daisy', 'dandelion', 'roses', 'sunflowers', 'tulip']\n",
        "\n",
        "filenames = tf.gfile.Glob(GCS_PATTER)\n",
        "split = int(len(filenames) * VALIDATION_SPLIT)\n",
        "training_filenames = filenames[split:]\n",
        "validation_filenames = filenames[:split]\n",
        "validation_steps = 30\n",
        "steps_per_epoch = 30\n"
      ],
      "execution_count": 0,
      "outputs": []
    }
  ]
}